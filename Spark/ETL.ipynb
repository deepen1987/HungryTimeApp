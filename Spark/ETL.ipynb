{
 "cells": [
  {
   "cell_type": "markdown",
   "id": "a52274ab-fc4b-4754-b4e0-20a5db521f6b",
   "metadata": {},
   "source": [
    "# Configured Spark, PostgreSQL"
   ]
  },
  {
   "cell_type": "markdown",
   "id": "5c201334-91af-4473-851e-f964e04e92de",
   "metadata": {},
   "source": [
    "##### 1. PySpark Imports"
   ]
  },
  {
   "cell_type": "code",
   "execution_count": 1,
   "id": "fa82cf4f-dd16-4e6a-a950-6aa7878d6d43",
   "metadata": {},
   "outputs": [],
   "source": [
    "from pyspark.sql import SparkSession\n",
    "import pyspark.sql.functions as F\n",
    "import psycopg2"
   ]
  },
  {
   "cell_type": "markdown",
   "id": "d8a3b4b3-0f9d-42ad-9564-a00216797285",
   "metadata": {},
   "source": [
    "##### 2. Configuring SparkSession for PostgreSQl"
   ]
  },
  {
   "cell_type": "markdown",
   "id": "c377a91d-eb29-4f15-ae21-5a01d70285a6",
   "metadata": {},
   "source": [
    "<font color=\"yellow\">Added the required jar for postgreSQL in the specified path <font color=\"aqua\">check documentation"
   ]
  },
  {
   "cell_type": "code",
   "execution_count": 2,
   "id": "173489c2-2bc2-45cb-8f45-04253929b376",
   "metadata": {},
   "outputs": [],
   "source": [
    "spark = SparkSession \\\n",
    "    .builder \\\n",
    "    .appName(\"Python Spark SQL basic example\") \\\n",
    "    .config(\"spark.jars\", \"/Users/deependrashekhawat/jars/postgresql-42.2.21.jar\") \\\n",
    "    .getOrCreate()"
   ]
  },
  {
   "cell_type": "markdown",
   "id": "02f13848-a83f-4475-905f-52dbc8b22ec0",
   "metadata": {},
   "source": [
    "##### 3. Database connection currsor"
   ]
  },
  {
   "cell_type": "markdown",
   "id": "2dcf4644-47c6-46b5-9bfc-bfde2548e235",
   "metadata": {},
   "source": [
    "<font color=\"yellow\">Added the library for postgreSQL <font color=\"aqua\">check references"
   ]
  },
  {
   "cell_type": "code",
   "execution_count": 3,
   "id": "7c2c2c6f-7db9-441e-9e44-3a45d010e57f",
   "metadata": {},
   "outputs": [],
   "source": [
    "conn = psycopg2.connect(host=\"localhost\", database=\"testrestaurant\", user=\"postgres\", password=\"Welcome@1\", port=5436)\n",
    "curr = conn.cursor()"
   ]
  },
  {
   "cell_type": "markdown",
   "id": "ec5fc462-c827-4138-b200-40af07de6a32",
   "metadata": {},
   "source": [
    "# Load Cities and State"
   ]
  },
  {
   "cell_type": "code",
   "execution_count": 4,
   "id": "f0732f30-e172-4508-8989-c62c68208cf1",
   "metadata": {},
   "outputs": [],
   "source": [
    "def insert_cities(data_file):\n",
    "    df_cities = spark.read.csv(data_file, header=True)\n",
    "    \n",
    "    df_cities.select(F.trim(F.initcap(\"cities\")), \"state\").registerTempTable(\"cities\")\n",
    "    output = spark.sql('select * from cities')\n",
    "    \n",
    "    city = [tuple(x) for x in output.collect()]\n",
    "    joinValues = ','.join(['%s'] * len(city))\n",
    "    insertValue = \"INSERT INTO address (city, state) VALUES{}\".format(joinValues)\n",
    "    \n",
    "    curr.execute(insertValue, city)\n",
    "    \n",
    "    conn.commit()"
   ]
  },
  {
   "cell_type": "code",
   "execution_count": 5,
   "id": "4de8fbe5-f820-483f-90cb-1a9fc57e3643",
   "metadata": {},
   "outputs": [],
   "source": [
    "insert_cities(\"/Users/deependrashekhawat/Documents/BU/Semesters/Sem3/Project/PostgreSQL_DB/GA.csv\")"
   ]
  },
  {
   "cell_type": "markdown",
   "id": "1b4890ca-e89d-46e0-b003-e4821e644033",
   "metadata": {},
   "source": [
    "# Load Cuisine"
   ]
  },
  {
   "cell_type": "code",
   "execution_count": 6,
   "id": "d9d8e8d3-c86a-4447-b5f5-db1d8aeafb57",
   "metadata": {},
   "outputs": [],
   "source": [
    "def insert_cuisine(data_file):\n",
    "    df_cuisine = spark.read.csv(data_file, header=True)\n",
    "    \n",
    "    df_cuisine.select(F.trim(F.initcap(\"cuisine\"))).registerTempTable(\"cuisine\")\n",
    "    output = spark.sql(\"select * from cuisine\")\n",
    "    \n",
    "    cuisine = [tuple(x) for x in output.collect()]\n",
    "    joinValues = ','.join(['%s'] * len(cuisine))\n",
    "    insertValue = \"INSERT INTO cuisines (cuisine_name) VALUES{}\".format(joinValues)\n",
    "    \n",
    "    curr.execute(insertValue, cuisine)\n",
    "#     curr.execute(\"select * from cuisines\")   --Testing Purpose\n",
    "#     result = curr.fetchmany(2)\n",
    "#     for row in result:\n",
    "#         print(row)\n",
    "    \n",
    "    conn.commit()"
   ]
  },
  {
   "cell_type": "code",
   "execution_count": 7,
   "id": "0ab158c6-969c-4511-9ebb-7ae3aa8a2869",
   "metadata": {},
   "outputs": [],
   "source": [
    "insert_cuisine(\"/Users/deependrashekhawat/Documents/BU/Semesters/Sem3/Project/PostgreSQL_DB/cuisine.csv\")"
   ]
  },
  {
   "cell_type": "markdown",
   "id": "10f92ca4-1730-4b44-8538-d6d0c9ac663c",
   "metadata": {},
   "source": [
    "# Load Data in restaurant staging table"
   ]
  },
  {
   "cell_type": "markdown",
   "id": "d72cf102-425f-4c83-b761-a2ec37f71b13",
   "metadata": {},
   "source": [
    "##### 1. Reading Cuisine data from Database"
   ]
  },
  {
   "cell_type": "code",
   "execution_count": 8,
   "id": "360538e2-1f63-471c-a1af-d703e84307ea",
   "metadata": {},
   "outputs": [],
   "source": [
    "curr.execute(\"SELECT cuisine_name from cuisines\")\n",
    "resultCuisine = [item for x in curr.fetchall() for item in x]"
   ]
  },
  {
   "cell_type": "markdown",
   "id": "81672e5a-4d6e-4e4f-bdb2-e1df3055e23e",
   "metadata": {},
   "source": [
    "##### 2. Reading Restaurant CSV Data"
   ]
  },
  {
   "cell_type": "code",
   "execution_count": 9,
   "id": "5cc81deb-f126-4b8d-9683-cbbd0953a24e",
   "metadata": {},
   "outputs": [],
   "source": [
    "restaurantJSON = \"/Users/deependrashekhawat/Documents/BU/Semesters/Sem3/Project/PostgreSQL_DB/YelpDataset/yelp_academic_dataset_business.json\"\n",
    "business_data_raw = spark \\\n",
    "                .read \\\n",
    "                .json(restaurantJSON)"
   ]
  },
  {
   "cell_type": "markdown",
   "id": "e2af8bc6-500f-4f1b-b47a-1b9eb478f49e",
   "metadata": {},
   "source": [
    "##### 3. Data PreProcessing and Loading to Staging"
   ]
  },
  {
   "cell_type": "code",
   "execution_count": 10,
   "id": "7c9696fb-4570-4b8f-933d-0bae02e1c2e1",
   "metadata": {},
   "outputs": [],
   "source": [
    "df_business_data_raw = business_data_raw \\\n",
    "    .select(\"name\", \"address\", \"city\", \"state\", \"postal_code\", \\\n",
    "             F.explode(F.split(F.initcap(\"categories\"), \",|\\s+\")).alias(\"cuisine\"), \\\n",
    "             \"latitude\", \"longitude\", \"stars\", \"review_count\")"
   ]
  },
  {
   "cell_type": "code",
   "execution_count": 11,
   "id": "8d9247e6-e166-46fc-be9c-ca9ba6778a27",
   "metadata": {},
   "outputs": [],
   "source": [
    "df_business_data = df_business_data_raw \\\n",
    "    .filter(df_business_data_raw.cuisine.rlike(\"|\".join([\".*\" + x + \".*\" for x in resultCuisine])))"
   ]
  },
  {
   "cell_type": "markdown",
   "id": "ca6b0b96-7bc0-456b-aac4-4cb2bf3f0223",
   "metadata": {},
   "source": [
    "##### 4. Reading City data from Database one State at a time"
   ]
  },
  {
   "cell_type": "code",
   "execution_count": 12,
   "id": "fa7548d8-1856-465f-a7e1-24c4be8e9b56",
   "metadata": {},
   "outputs": [],
   "source": [
    "curr.execute(\"SELECT city from address where state='GA'\")\n",
    "resultCity = [item for x in curr.fetchall() for item in x]"
   ]
  },
  {
   "cell_type": "markdown",
   "id": "05c6d74f-6a35-48d5-af17-adae96826ffd",
   "metadata": {},
   "source": [
    "##### 5. Inserting records One state at a time and filtering it from cities which are in Database."
   ]
  },
  {
   "cell_type": "code",
   "execution_count": 13,
   "id": "4feee366-02f2-4cf6-93b1-8855d9417c6d",
   "metadata": {},
   "outputs": [],
   "source": [
    "df_business_data \\\n",
    "    .filter((df_business_data.state.isin(\"GA\")) & (df_business_data.city.isin(resultCity))) \\\n",
    "    .select(\"name\", \"address\", \"city\", \"state\", \"postal_code\", \"cuisine\", \"latitude\", \"longitude\", \"stars\", \"review_count\") \\\n",
    "    .registerTempTable(\"staging\")\n",
    "\n",
    "output = spark.sql(\"select * from staging\")\n",
    "\n",
    "\n",
    "stagedData = [tuple(x) for x in output.collect()]\n",
    "joinValues = ','.join(['%s'] * len(stagedData))\n",
    "\n",
    "\n",
    "insertValue = \"INSERT INTO restaurantstaging \\\n",
    "    (restaurant_name, street, city, state, postal_code, cuisine_name, latitude, longitude, stars, review_count) VALUES{}\".format(joinValues)\n",
    "\n",
    "\n",
    "curr.execute(insertValue, stagedData)\n",
    "# curr.execute(\"select * from restaurantstaging\")  --Testing Purpose\n",
    "# result = curr.fetchmany(2)\n",
    "# for row in result:\n",
    "#     print(row)\n",
    "\n",
    "conn.commit()"
   ]
  },
  {
   "cell_type": "code",
   "execution_count": null,
   "id": "34dd740c-b66c-4931-8879-76fae2756313",
   "metadata": {},
   "outputs": [],
   "source": []
  }
 ],
 "metadata": {
  "kernelspec": {
   "display_name": "Python 3",
   "language": "python",
   "name": "python3"
  },
  "language_info": {
   "codemirror_mode": {
    "name": "ipython",
    "version": 3
   },
   "file_extension": ".py",
   "mimetype": "text/x-python",
   "name": "python",
   "nbconvert_exporter": "python",
   "pygments_lexer": "ipython3",
   "version": "3.8.8"
  }
 },
 "nbformat": 4,
 "nbformat_minor": 5
}
