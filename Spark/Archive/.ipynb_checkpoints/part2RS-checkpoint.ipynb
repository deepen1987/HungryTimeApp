{
 "cells": [
  {
   "cell_type": "code",
   "execution_count": 10,
   "id": "84c14adb-8c21-447d-990b-eb97f3be390d",
   "metadata": {},
   "outputs": [],
   "source": [
    "from pyspark.sql import SparkSession\n",
    "import pyspark.sql.functions as F\n",
    "import psycopg2"
   ]
  },
  {
   "cell_type": "markdown",
   "id": "27c03faa-e6c5-456a-bea3-9bfb78fcb52a",
   "metadata": {},
   "source": [
    "## Spark Session configuration for both <font color=\"yellow\">PostgresSQL DB and MongoDB"
   ]
  },
  {
   "cell_type": "code",
   "execution_count": 15,
   "id": "e7995078-3d3e-4ba7-8235-c50f82880b50",
   "metadata": {},
   "outputs": [],
   "source": [
    "my_spark = SparkSession \\\n",
    "    .builder \\\n",
    "    .appName(\"restaurant\") \\\n",
    "    .config(\"spark.jars.packages\", \"org.mongodb.spark:mongo-spark-connector_2.12:3.0.1\") \\\n",
    "    .config(\"spark.jars\", \"/Users/deependrashekhawat/jars/postgresql-42.2.21.jar\") \\\n",
    "    .getOrCreate()"
   ]
  },
  {
   "cell_type": "markdown",
   "id": "6d5434d5-d765-47ec-8f8e-d810b12803d1",
   "metadata": {},
   "source": [
    "### Library to read of data from <font color=\"yellow\">PostgresSQL DB"
   ]
  },
  {
   "cell_type": "code",
   "execution_count": 16,
   "id": "20bc655d-3719-4627-9ddd-f83472a2e1eb",
   "metadata": {},
   "outputs": [],
   "source": [
    "conn = psycopg2.connect(host=\"localhost\", database=\"testrestaurant\", user=\"postgres\", password=\"Welcome@1\", port=5436)\n",
    "curr = conn.cursor()"
   ]
  },
  {
   "cell_type": "code",
   "execution_count": 67,
   "id": "ad6ef379-8868-401f-bb7c-1193a85f50be",
   "metadata": {},
   "outputs": [],
   "source": [
    "curr.execute(\"\"\"\n",
    "select rs.restaurant_id, restaurant_name, street, city, state, postal_code, latitude, longitude, stars, review_count, cuisine_name\n",
    "from restaurantcuisine rs\n",
    "join restaurants r ON (rs.restaurant_id = r.restaurant_id)\n",
    "join address a ON (r.address_id = a.address_id)\n",
    "join cuisines c ON (rs.cuisine_id = c.cuisine_id)\n",
    "\"\"\")\n",
    "resultCity = curr.fetchall()"
   ]
  },
  {
   "cell_type": "code",
   "execution_count": 104,
   "id": "e2accdd6-4f97-4311-a232-44b8c1a70a9c",
   "metadata": {},
   "outputs": [],
   "source": [
    "columns = [\"restaurant_id\", \"restaurant_name\", \"street\", \"city\", \"state\", \"postal_code\", \"latitude\", \"longitude\", \"stars\", \"review_count\", \"cuisine_name\"]\n",
    "dfFromList = my_spark.createDataFrame(data=resultCity, schema = columns)"
   ]
  },
  {
   "cell_type": "code",
   "execution_count": 105,
   "id": "812fb53c-2218-44d9-abca-38df799b69d0",
   "metadata": {},
   "outputs": [],
   "source": [
    "# dfFromList.registerTempTable(\"restaurant\")"
   ]
  },
  {
   "cell_type": "code",
   "execution_count": 103,
   "id": "25be0c13-2f41-44bd-af5e-7db5af72e52f",
   "metadata": {},
   "outputs": [],
   "source": [
    "# output = my_spark.sql(f\"select * from restaurant where cuisine_name in ({a})\")"
   ]
  },
  {
   "cell_type": "code",
   "execution_count": 236,
   "id": "a3f81a3e-ee73-4741-9cd8-b6b8a188a337",
   "metadata": {},
   "outputs": [],
   "source": [
    "a = ['Thai', 'Indian', 'Mexican']\n",
    "k = {}\n",
    "for i in a:\n",
    "    k[i] = dfFromList.filter(F.col('cuisine_name').isin(i)).filter(F.col(\"city\") == 'Boston').orderBy(['review_count', 'stars'],ascending=False).toJSON().take(10)"
   ]
  },
  {
   "cell_type": "code",
   "execution_count": 237,
   "id": "c95bf9ce-96d2-4d95-9589-93eeeebecf18",
   "metadata": {},
   "outputs": [
    {
     "data": {
      "text/plain": [
       "['{\"restaurant_id\":56858,\"restaurant_name\":\"India Quality Restaurant\",\"street\":\"484 Commonwealth Ave\",\"city\":\"Boston\",\"state\":\"MA\",\"postal_code\":\"02215\",\"latitude\":42.348564970000000000,\"longitude\":-71.094380840000000000,\"stars\":4.000000000000000000,\"review_count\":756,\"cuisine_name\":\"Indian\"}',\n",
       " '{\"restaurant_id\":60173,\"restaurant_name\":\"Ristorante Fiore\",\"street\":\"250 Hanover St\",\"city\":\"Boston\",\"state\":\"MA\",\"postal_code\":\"02113\",\"latitude\":42.363560400000000000,\"longitude\":-71.055116000000000000,\"stars\":3.500000000000000000,\"review_count\":625,\"cuisine_name\":\"Indian\"}',\n",
       " '{\"restaurant_id\":61768,\"restaurant_name\":\"Mela\",\"street\":\"578 Tremont St\",\"city\":\"Boston\",\"state\":\"MA\",\"postal_code\":\"02118\",\"latitude\":42.343297400000000000,\"longitude\":-71.072456600000000000,\"stars\":3.500000000000000000,\"review_count\":621,\"cuisine_name\":\"Indian\"}',\n",
       " '{\"restaurant_id\":60352,\"restaurant_name\":\"Kashmir Indian Restaurant\",\"street\":\"279 Newbury St, Ste 2\",\"city\":\"Boston\",\"state\":\"MA\",\"postal_code\":\"02116\",\"latitude\":42.349356000000000000,\"longitude\":-71.083946000000000000,\"stars\":3.500000000000000000,\"review_count\":619,\"cuisine_name\":\"Indian\"}',\n",
       " '{\"restaurant_id\":61284,\"restaurant_name\":\"Tantric India Bistro\",\"street\":\"123 Stuart St\",\"city\":\"Boston\",\"state\":\"MA\",\"postal_code\":\"02116\",\"latitude\":42.351162000000000000,\"longitude\":-71.065691700000000000,\"stars\":3.500000000000000000,\"review_count\":289,\"cuisine_name\":\"Indian\"}',\n",
       " '{\"restaurant_id\":62267,\"restaurant_name\":\"Mantra Restaurant\",\"street\":\"52 Temple Pl\",\"city\":\"Boston\",\"state\":\"MA\",\"postal_code\":\"02111\",\"latitude\":42.355183900000000000,\"longitude\":-71.061522100000000000,\"stars\":2.500000000000000000,\"review_count\":245,\"cuisine_name\":\"Indian\"}',\n",
       " '{\"restaurant_id\":58167,\"restaurant_name\":\"Mehak\",\"street\":\"329 Sumner St\",\"city\":\"Boston\",\"state\":\"MA\",\"postal_code\":\"02128\",\"latitude\":42.367151000000000000,\"longitude\":-71.036105900000000000,\"stars\":3.500000000000000000,\"review_count\":220,\"cuisine_name\":\"Indian\"}',\n",
       " '{\"restaurant_id\":62738,\"restaurant_name\":\"Darbar\",\"street\":\"130 N Beacon St\",\"city\":\"Boston\",\"state\":\"MA\",\"postal_code\":\"02135\",\"latitude\":42.354875620000000000,\"longitude\":-71.144702620000000000,\"stars\":3.500000000000000000,\"review_count\":194,\"cuisine_name\":\"Indian\"}',\n",
       " '{\"restaurant_id\":55900,\"restaurant_name\":\"Mumbai Spice\",\"street\":\"251 Massachusetts Ave\",\"city\":\"Boston\",\"state\":\"MA\",\"postal_code\":\"02115\",\"latitude\":42.343764990000000000,\"longitude\":-71.086173630000000000,\"stars\":3.000000000000000000,\"review_count\":185,\"cuisine_name\":\"Indian\"}',\n",
       " '{\"restaurant_id\":56528,\"restaurant_name\":\"Dosa Factory - Boston\",\"street\":\"316 Newbury St\",\"city\":\"Boston\",\"state\":\"MA\",\"postal_code\":\"02115\",\"latitude\":42.348725280000000000,\"longitude\":-71.085476580000000000,\"stars\":2.500000000000000000,\"review_count\":182,\"cuisine_name\":\"Indian\"}']"
      ]
     },
     "execution_count": 237,
     "metadata": {},
     "output_type": "execute_result"
    }
   ],
   "source": [
    "k[\"Indian\"]"
   ]
  },
  {
   "cell_type": "markdown",
   "id": "c79d7bfa-dd1d-43f9-a7db-38475b542f35",
   "metadata": {},
   "source": [
    "# -----------------------------"
   ]
  },
  {
   "cell_type": "code",
   "execution_count": null,
   "id": "f413c22e-b644-40a5-a7a5-2a09f4d23896",
   "metadata": {},
   "outputs": [],
   "source": []
  },
  {
   "cell_type": "markdown",
   "id": "5b3dc3db-1c4d-4ac8-84cb-53294a3e2c70",
   "metadata": {},
   "source": [
    "### Reading From <font color=\"yellow\">MongoDB"
   ]
  },
  {
   "cell_type": "code",
   "execution_count": 286,
   "id": "996f10d7-a239-44b5-8791-52dcb3c1f46c",
   "metadata": {},
   "outputs": [],
   "source": [
    "dfUser = my_spark.read \\\n",
    "    .format(\"com.mongodb.spark.sql.DefaultSource\") \\\n",
    "    .option(\"spark.mongodb.input.uri\", \"mongodb://localhost:27017/hungryApp.user\") \\\n",
    "    .load()"
   ]
  },
  {
   "cell_type": "markdown",
   "id": "75c31e79-0e68-4836-841e-ab8dcf769892",
   "metadata": {},
   "source": [
    "# ----------------------"
   ]
  },
  {
   "cell_type": "code",
   "execution_count": 287,
   "id": "08faddd9-69ac-4cae-b5c8-c4279e9e98c7",
   "metadata": {},
   "outputs": [
    {
     "name": "stdout",
     "output_type": "stream",
     "text": [
      "+--------------------------+---------+------------+----------+---------+---------+-----------------------+-----+\n",
      "|_id                       |city     |contact     |email     |firstname|lastname |preference             |state|\n",
      "+--------------------------+---------+------------+----------+---------+---------+-----------------------+-----+\n",
      "|{61901edc8d57a518b36728a4}|cambridge|7.74641373E9|deep@s.com|Deep     |shekhawat|[thai, indian, mexican]|MA   |\n",
      "|{619197026a85243051943d49}|boston   |7.74641373E9|neha@b.com|Neha     |Bais     |[thai, indian, mexican]|MA   |\n",
      "+--------------------------+---------+------------+----------+---------+---------+-----------------------+-----+\n",
      "\n"
     ]
    }
   ],
   "source": [
    "dfUser.show(truncate=False)"
   ]
  },
  {
   "cell_type": "code",
   "execution_count": 369,
   "id": "f2e7e98f-f761-4fd4-a0c1-41368795537b",
   "metadata": {},
   "outputs": [],
   "source": [
    "# df1 = dfUser.select(\"_id\", \"state\", F.initcap(\"city\").alias(\"city\"), F.explode(\"preference\").alias(\"cuisine_name\"))"
   ]
  },
  {
   "cell_type": "code",
   "execution_count": 368,
   "id": "bd21de94-c89b-4077-9872-00ba6bd8523d",
   "metadata": {},
   "outputs": [],
   "source": [
    "# df2 = df1 \\\n",
    "#     .select(\"_id\", \"state\", \"city\", F.initcap(\"cuisine_name\").alias(\"cuisine_name\")) \\\n",
    "#     .join(dfFromList, [\"cuisine_name\", \"city\", \"state\"], \"inner\")\n",
    "# df2.show(1)"
   ]
  },
  {
   "cell_type": "code",
   "execution_count": 370,
   "id": "341b9ffb-b765-4838-bae9-15694e2081d0",
   "metadata": {},
   "outputs": [],
   "source": [
    "# df3 = df2.withColumn(\"jsonCol\", F.to_json(F.struct([x for x in df2.columns if x not in [\"_id\", \"cuisine_name\"]]))) \\\n",
    "#     .select([\"_id\", \"cuisine_name\", \"jsonCol\"])"
   ]
  },
  {
   "cell_type": "code",
   "execution_count": 367,
   "id": "f2a44752-a5fc-496a-9a61-3a46caa84723",
   "metadata": {},
   "outputs": [],
   "source": [
    "# df4 = df3.groupBy(\"_id\", \"cuisine_name\").agg(F.collect_list(\"jsonCol\").alias(\"jsonCol1\"))"
   ]
  },
  {
   "cell_type": "code",
   "execution_count": 364,
   "id": "b7ba58c3-e52f-42e8-826b-15a7c17de05b",
   "metadata": {},
   "outputs": [],
   "source": [
    "# df5 = df4.select(\"_id\", F.to_json(F.create_map(\"cuisine_name\", \"jsonCol1\"), options={None}).alias(\"Rest\"))"
   ]
  },
  {
   "cell_type": "code",
   "execution_count": 365,
   "id": "293480ee-b55c-475e-8d74-d64b172e7175",
   "metadata": {},
   "outputs": [],
   "source": [
    "# df5.show()"
   ]
  },
  {
   "cell_type": "code",
   "execution_count": 317,
   "id": "eb0c1992-7233-4c79-a513-aa6b3f4a2293",
   "metadata": {},
   "outputs": [],
   "source": [
    "# df6 = df5.groupBy(\"_id\").agg(F.collect_list(\"Rest\").alias(\"cuisine\"))"
   ]
  },
  {
   "cell_type": "code",
   "execution_count": 345,
   "id": "1564db47-5a2e-4578-96ad-0e13d955a435",
   "metadata": {},
   "outputs": [],
   "source": [
    "# df6.show()"
   ]
  },
  {
   "cell_type": "code",
   "execution_count": 346,
   "id": "c53ef2e1-1f29-4243-8957-efdf533c35be",
   "metadata": {},
   "outputs": [],
   "source": [
    "# df6.write \\\n",
    "# .format(\"com.mongodb.spark.sql.DefaultSource\") \\\n",
    "# .mode(\"append\") \\\n",
    "# .option(\"spark.mongodb.output.uri\", \"mongodb://localhost:27017/hungryApp.restaurantRecommendation\") \\\n",
    "# .save()"
   ]
  },
  {
   "cell_type": "code",
   "execution_count": 238,
   "id": "cc5ed57b-2143-49f2-ac89-e0453a88251a",
   "metadata": {},
   "outputs": [
    {
     "name": "stdout",
     "output_type": "stream",
     "text": [
      "61901edc8d57a518b36728a4\n",
      "619197026a85243051943d49\n"
     ]
    }
   ],
   "source": [
    "userArray1 = dfUser.rdd.map(lambda x: (x._id,x.preference)).collect()\n",
    "for i, row in enumerate(userArray1):\n",
    "    print(row[0].oid)"
   ]
  },
  {
   "cell_type": "code",
   "execution_count": 239,
   "id": "c52c1698-3f46-4c4f-8e78-add3b7dd01dd",
   "metadata": {},
   "outputs": [
    {
     "data": {
      "text/plain": [
       "[Row(preference=['thai', 'indian', 'mexican']),\n",
       " Row(preference=['thai', 'indian', 'mexican'])]"
      ]
     },
     "execution_count": 239,
     "metadata": {},
     "output_type": "execute_result"
    }
   ],
   "source": [
    "arr = dfUser.select(\"preference\").collect()\n",
    "arr"
   ]
  },
  {
   "cell_type": "markdown",
   "id": "285c6645-602c-45a9-af34-aa138522c474",
   "metadata": {},
   "source": [
    "# -----------------------------"
   ]
  },
  {
   "cell_type": "markdown",
   "id": "b8509323-43fd-4aa1-bce5-3fbd2c921867",
   "metadata": {},
   "source": [
    "### Writing to <font color=\"yellow\">MongoDB"
   ]
  },
  {
   "cell_type": "code",
   "execution_count": 9,
   "id": "715f727a-2a80-493d-b1c1-4d0db9102399",
   "metadata": {},
   "outputs": [],
   "source": [
    "df.write \\\n",
    ".format(\"com.mongodb.spark.sql.DefaultSource\") \\\n",
    ".mode(\"overwrite\") \\\n",
    ".option(\"spark.mongodb.output.uri\", \"mongodb://localhost:27017/hungryApp.restaurantRecommendation\") \\\n",
    ".save()"
   ]
  },
  {
   "cell_type": "code",
   "execution_count": null,
   "id": "1df230e7-aae8-473a-a0f6-e2b4c450f88f",
   "metadata": {},
   "outputs": [],
   "source": []
  }
 ],
 "metadata": {
  "kernelspec": {
   "display_name": "Python 3",
   "language": "python",
   "name": "python3"
  },
  "language_info": {
   "codemirror_mode": {
    "name": "ipython",
    "version": 3
   },
   "file_extension": ".py",
   "mimetype": "text/x-python",
   "name": "python",
   "nbconvert_exporter": "python",
   "pygments_lexer": "ipython3",
   "version": "3.8.8"
  }
 },
 "nbformat": 4,
 "nbformat_minor": 5
}
