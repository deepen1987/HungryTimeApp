{
 "cells": [
  {
   "cell_type": "markdown",
   "id": "b743b35b",
   "metadata": {},
   "source": [
    "### Creating a Spark Session"
   ]
  },
  {
   "cell_type": "code",
   "execution_count": 14,
   "id": "f8cada97",
   "metadata": {},
   "outputs": [],
   "source": [
    "\n",
    "from pyspark.sql import SparkSession\n",
    "\n",
    "spark = SparkSession.builder.getOrCreate()"
   ]
  },
  {
   "cell_type": "code",
   "execution_count": 15,
   "id": "2d9b0604",
   "metadata": {},
   "outputs": [],
   "source": [
    "df_business = spark.read.json \\\n",
    "(\"/Users/deependrashekhawat/Documents/BU/Semesters/Sem3/Project/PostgreSQL_DB/YelpDataset/yelp_academic_dataset_business.json\")"
   ]
  },
  {
   "cell_type": "code",
   "execution_count": 13,
   "id": "84c73235",
   "metadata": {},
   "outputs": [
    {
     "data": {
      "text/plain": [
       "DataFrame[summary: string, address: string, business_id: string, categories: string, city: string, is_open: string, latitude: string, longitude: string, name: string, postal_code: string, review_count: string, stars: string, state: string]"
      ]
     },
     "execution_count": 13,
     "metadata": {},
     "output_type": "execute_result"
    }
   ],
   "source": [
    "df_business.describe()"
   ]
  },
  {
   "cell_type": "code",
   "execution_count": 16,
   "id": "ce210a85",
   "metadata": {},
   "outputs": [],
   "source": [
    "df_reviews = spark.read.json \\\n",
    "(\"/Users/deependrashekhawat/Documents/BU/Semesters/Sem3/Project/PostgreSQL_DB/YelpDataset/yelp_academic_dataset_review.json\")"
   ]
  },
  {
   "cell_type": "code",
   "execution_count": 81,
   "id": "9f777dd0-c622-46e0-97e5-16e5714c2e45",
   "metadata": {},
   "outputs": [
    {
     "data": {
      "text/plain": [
       "7391"
      ]
     },
     "execution_count": 81,
     "metadata": {},
     "output_type": "execute_result"
    }
   ],
   "source": [
    "df_business.filter((df_business.categories.contains(\"Restaurants\")) & (df_business.state == \"OR\")).count()"
   ]
  },
  {
   "cell_type": "code",
   "execution_count": 83,
   "id": "9551ffd4-6710-47e8-b960-c9dd844eb040",
   "metadata": {},
   "outputs": [
    {
     "name": "stdout",
     "output_type": "stream",
     "text": [
      "+-----+-----+\n",
      "|state|count|\n",
      "+-----+-----+\n",
      "|   MN|    1|\n",
      "|   OR| 7391|\n",
      "|   VA|    1|\n",
      "|   WY|    1|\n",
      "|   KY|    1|\n",
      "|   BC| 7506|\n",
      "|   NH|    1|\n",
      "|   WA|  773|\n",
      "|   OH| 4377|\n",
      "|  ABE|    1|\n",
      "|   TX| 5444|\n",
      "|   GA| 6140|\n",
      "|   MA|10550|\n",
      "|   KS|    1|\n",
      "|   CO|  865|\n",
      "|   FL| 7710|\n",
      "+-----+-----+\n",
      "\n"
     ]
    }
   ],
   "source": [
    "df_business.filter((df_business.categories.contains(\"Restaurants\"))).groupBy(\"state\").count().show()"
   ]
  },
  {
   "cell_type": "code",
   "execution_count": 1,
   "id": "5a8203f5-0ebb-4c46-844f-bf4d8ea0a6ea",
   "metadata": {},
   "outputs": [],
   "source": [
    "from pyspark.sql import SparkSession\n",
    "\n",
    "# the Spark session should be instantiated as follows\n",
    "spark = SparkSession \\\n",
    "    .builder \\\n",
    "    .appName(\"Python Spark SQL basic example\") \\\n",
    "    .config(\"spark.jars\", \"/Users/deependrashekhawat/jars/postgresql-42.2.21.jar\") \\\n",
    "    .getOrCreate()"
   ]
  },
  {
   "cell_type": "code",
   "execution_count": 2,
   "id": "b6559a57-8398-4ec3-aa9e-313836a2f2d3",
   "metadata": {},
   "outputs": [],
   "source": [
    "jdbcDF2 = spark.read \\\n",
    "    .format(\"jdbc\") \\\n",
    "    .option(\"url\", \"jdbc:postgresql://localhost:5432/hotel\")\\\n",
    "    .option(\"dbtable\", \"guest\") \\\n",
    "    .option(\"user\", \"postgres\") \\\n",
    "    .option(\"password\", \"Welcome@1\") \\\n",
    "    .option(\"driver\", \"org.postgresql.Driver\") \\\n",
    "    .load()"
   ]
  },
  {
   "cell_type": "code",
   "execution_count": 3,
   "id": "d71bee9e-0569-4836-af63-00dfd79cd2b2",
   "metadata": {},
   "outputs": [],
   "source": [
    "spark.stop()"
   ]
  },
  {
   "cell_type": "code",
   "execution_count": null,
   "id": "6bfecc87-94e4-45f7-bfa0-b16dbacd5b34",
   "metadata": {},
   "outputs": [],
   "source": []
  }
 ],
 "metadata": {
  "kernelspec": {
   "display_name": "Python 3",
   "language": "python",
   "name": "python3"
  },
  "language_info": {
   "codemirror_mode": {
    "name": "ipython",
    "version": 3
   },
   "file_extension": ".py",
   "mimetype": "text/x-python",
   "name": "python",
   "nbconvert_exporter": "python",
   "pygments_lexer": "ipython3",
   "version": "3.8.8"
  }
 },
 "nbformat": 4,
 "nbformat_minor": 5
}
